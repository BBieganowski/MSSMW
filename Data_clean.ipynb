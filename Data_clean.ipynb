{
 "metadata": {
  "language_info": {
   "codemirror_mode": {
    "name": "ipython",
    "version": 3
   },
   "file_extension": ".py",
   "mimetype": "text/x-python",
   "name": "python",
   "nbconvert_exporter": "python",
   "pygments_lexer": "ipython3",
   "version": "3.8.5"
  },
  "orig_nbformat": 4,
  "kernelspec": {
   "name": "python3",
   "display_name": "Python 3.8.5 64-bit"
  },
  "interpreter": {
   "hash": "916dbcbb3f70747c44a77c7bcd40155683ae19c65e1c03b4aa3499c5328201f1"
  }
 },
 "nbformat": 4,
 "nbformat_minor": 2,
 "cells": [
  {
   "cell_type": "code",
   "execution_count": 1,
   "metadata": {},
   "outputs": [],
   "source": [
    "from pandas.core.dtypes.missing import isna\n",
    "from pandas.io.parsers import read_csv\n",
    "import sklearn\n",
    "import numpy as np\n",
    "import pandas as pd\n",
    "import os"
   ]
  },
  {
   "cell_type": "code",
   "execution_count": 14,
   "metadata": {},
   "outputs": [],
   "source": [
    "SP500 = pd.read_csv(\"/home/bartek/Desktop/MSSMW/data/S&P500.csv\")\n",
    "DJIA = pd.read_csv(\"/home/bartek/Desktop/MSSMW/data/DJIA.csv\")\n",
    "NASDAQ = pd.read_csv(\"/home/bartek/Desktop/MSSMW/data/NASDAQ.csv\")\n",
    "EURUSD = pd.read_csv(\"/home/bartek/Desktop/MSSMW/data/EURUSD.csv\")\n",
    "OIL = pd.read_csv(\"/home/bartek/Desktop/MSSMW/data/crudeoil.csv\")\n",
    "GOLD = pd.read_csv(\"/home/bartek/Desktop/MSSMW/data/gold.csv\").iloc[::-1].reset_index(drop = True)"
   ]
  },
  {
   "cell_type": "code",
   "execution_count": 20,
   "metadata": {},
   "outputs": [
    {
     "output_type": "execute_result",
     "data": {
      "text/plain": [
       "           Date    Price\n",
       "0      12/27/79   515.50\n",
       "1      12/28/79   517.80\n",
       "2      12/31/79   533.60\n",
       "3      01/02/80   575.50\n",
       "4      01/03/80   625.00\n",
       "...         ...      ...\n",
       "10522  06/04/21  1892.00\n",
       "10523  06/07/21  1898.80\n",
       "10524  06/08/21  1894.40\n",
       "10525  06/09/21  1895.50\n",
       "10526  06/10/21  1896.65\n",
       "\n",
       "[10527 rows x 2 columns]"
      ],
      "text/html": "<div>\n<style scoped>\n    .dataframe tbody tr th:only-of-type {\n        vertical-align: middle;\n    }\n\n    .dataframe tbody tr th {\n        vertical-align: top;\n    }\n\n    .dataframe thead th {\n        text-align: right;\n    }\n</style>\n<table border=\"1\" class=\"dataframe\">\n  <thead>\n    <tr style=\"text-align: right;\">\n      <th></th>\n      <th>Date</th>\n      <th>Price</th>\n    </tr>\n  </thead>\n  <tbody>\n    <tr>\n      <th>0</th>\n      <td>12/27/79</td>\n      <td>515.50</td>\n    </tr>\n    <tr>\n      <th>1</th>\n      <td>12/28/79</td>\n      <td>517.80</td>\n    </tr>\n    <tr>\n      <th>2</th>\n      <td>12/31/79</td>\n      <td>533.60</td>\n    </tr>\n    <tr>\n      <th>3</th>\n      <td>01/02/80</td>\n      <td>575.50</td>\n    </tr>\n    <tr>\n      <th>4</th>\n      <td>01/03/80</td>\n      <td>625.00</td>\n    </tr>\n    <tr>\n      <th>...</th>\n      <td>...</td>\n      <td>...</td>\n    </tr>\n    <tr>\n      <th>10522</th>\n      <td>06/04/21</td>\n      <td>1892.00</td>\n    </tr>\n    <tr>\n      <th>10523</th>\n      <td>06/07/21</td>\n      <td>1898.80</td>\n    </tr>\n    <tr>\n      <th>10524</th>\n      <td>06/08/21</td>\n      <td>1894.40</td>\n    </tr>\n    <tr>\n      <th>10525</th>\n      <td>06/09/21</td>\n      <td>1895.50</td>\n    </tr>\n    <tr>\n      <th>10526</th>\n      <td>06/10/21</td>\n      <td>1896.65</td>\n    </tr>\n  </tbody>\n</table>\n<p>10527 rows × 2 columns</p>\n</div>"
     },
     "metadata": {},
     "execution_count": 20
    }
   ],
   "source": [
    "data_list = [SP500, DJIA, NASDAQ, EURUSD, OIL, GOLD]\n",
    "\n",
    "for i in data_list:\n",
    "    i['Date'] = pd.to_datetime(i['Date'])\n",
    "    i = i.set_index('Date')"
   ]
  },
  {
   "cell_type": "code",
   "execution_count": null,
   "metadata": {},
   "outputs": [],
   "source": []
  }
 ]
}