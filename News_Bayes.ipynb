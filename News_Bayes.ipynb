{
 "cells": [
  {
   "cell_type": "code",
   "execution_count": 6,
   "id": "0b73e611",
   "metadata": {},
   "outputs": [],
   "source": [
    "import pandas as pd\n",
    "from tqdm.notebook import tqdm_notebook"
   ]
  },
  {
   "cell_type": "code",
   "execution_count": 7,
   "metadata": {},
   "outputs": [],
   "source": [
    "data = pd.read_csv('data/headlines/1986.csv')\n"
   ]
  },
  {
   "cell_type": "code",
   "execution_count": 18,
   "metadata": {},
   "outputs": [
    {
     "output_type": "display_data",
     "data": {
      "text/plain": "  0%|          | 0/35 [00:00<?, ?it/s]",
      "application/vnd.jupyter.widget-view+json": {
       "version_major": 2,
       "version_minor": 0,
       "model_id": "3bfbcd6d90c64f89bebd682e755ec25d"
      }
     },
     "metadata": {}
    }
   ],
   "source": [
    "for i in tqdm_notebook(range(1987, 2022)):\n",
    "    data = pd.concat([data, pd.read_csv('data/headlines/'+ str(i) +'.csv')])\n",
    "\n",
    "data = data.reset_index(drop = True)"
   ]
  },
  {
   "cell_type": "code",
   "execution_count": 20,
   "metadata": {},
   "outputs": [
    {
     "output_type": "execute_result",
     "data": {
      "text/plain": [
       "(9919470, 7)"
      ]
     },
     "metadata": {},
     "execution_count": 20
    }
   ],
   "source": [
    "data.shape"
   ]
  },
  {
   "cell_type": "code",
   "execution_count": 21,
   "metadata": {},
   "outputs": [
    {
     "output_type": "execute_result",
     "data": {
      "text/plain": [
       "  Unnamed: 0                                        headline        date  \\\n",
       "0          0  CAROLINA DEMOCRATS SEE '86 BOON IN REAGAN VETO  1986-01-02   \n",
       "1          1                          EVENTS: CARPETS AS ART  1986-01-02   \n",
       "2          2                             Percy on Georgetown  1986-01-02   \n",
       "3          3   APARTMENT OF THE MOMENT: THE LATEST IN TRENDS  1986-01-02   \n",
       "4          4                  INVESTORS OPEN '86 CONFIDENTLY  1986-01-02   \n",
       "\n",
       "  doc_type material_type        section  \\\n",
       "0  article          News           U.S.   \n",
       "1  article          News  Home & Garden   \n",
       "2  article          News           U.S.   \n",
       "3  article          News  Home & Garden   \n",
       "4  article          News   Business Day   \n",
       "\n",
       "                                            keywords  \n",
       "0  ['LABOR', 'UNEMPLOYMENT AND JOB MARKET', 'Inte...  \n",
       "1                   ['Entertainment and Amusements']  \n",
       "2  ['LITTERING', 'STREETS', 'Noise', 'Waste Mater...  \n",
       "3        ['INTERIOR DECORATION', 'APARTMENT HOUSES']  \n",
       "4  ['NINETEEN HUNDRED EIGHTY-FIVE', 'Stocks and B...  "
      ],
      "text/html": "<div>\n<style scoped>\n    .dataframe tbody tr th:only-of-type {\n        vertical-align: middle;\n    }\n\n    .dataframe tbody tr th {\n        vertical-align: top;\n    }\n\n    .dataframe thead th {\n        text-align: right;\n    }\n</style>\n<table border=\"1\" class=\"dataframe\">\n  <thead>\n    <tr style=\"text-align: right;\">\n      <th></th>\n      <th>Unnamed: 0</th>\n      <th>headline</th>\n      <th>date</th>\n      <th>doc_type</th>\n      <th>material_type</th>\n      <th>section</th>\n      <th>keywords</th>\n    </tr>\n  </thead>\n  <tbody>\n    <tr>\n      <th>0</th>\n      <td>0</td>\n      <td>CAROLINA DEMOCRATS SEE '86 BOON IN REAGAN VETO</td>\n      <td>1986-01-02</td>\n      <td>article</td>\n      <td>News</td>\n      <td>U.S.</td>\n      <td>['LABOR', 'UNEMPLOYMENT AND JOB MARKET', 'Inte...</td>\n    </tr>\n    <tr>\n      <th>1</th>\n      <td>1</td>\n      <td>EVENTS: CARPETS AS ART</td>\n      <td>1986-01-02</td>\n      <td>article</td>\n      <td>News</td>\n      <td>Home &amp; Garden</td>\n      <td>['Entertainment and Amusements']</td>\n    </tr>\n    <tr>\n      <th>2</th>\n      <td>2</td>\n      <td>Percy on Georgetown</td>\n      <td>1986-01-02</td>\n      <td>article</td>\n      <td>News</td>\n      <td>U.S.</td>\n      <td>['LITTERING', 'STREETS', 'Noise', 'Waste Mater...</td>\n    </tr>\n    <tr>\n      <th>3</th>\n      <td>3</td>\n      <td>APARTMENT OF THE MOMENT: THE LATEST IN TRENDS</td>\n      <td>1986-01-02</td>\n      <td>article</td>\n      <td>News</td>\n      <td>Home &amp; Garden</td>\n      <td>['INTERIOR DECORATION', 'APARTMENT HOUSES']</td>\n    </tr>\n    <tr>\n      <th>4</th>\n      <td>4</td>\n      <td>INVESTORS OPEN '86 CONFIDENTLY</td>\n      <td>1986-01-02</td>\n      <td>article</td>\n      <td>News</td>\n      <td>Business Day</td>\n      <td>['NINETEEN HUNDRED EIGHTY-FIVE', 'Stocks and B...</td>\n    </tr>\n  </tbody>\n</table>\n</div>"
     },
     "metadata": {},
     "execution_count": 21
    }
   ],
   "source": [
    "data.head()"
   ]
  },
  {
   "cell_type": "code",
   "execution_count": 26,
   "metadata": {},
   "outputs": [],
   "source": [
    "relevant_headlines = data[(data['section'] == 'Business Day') | (data['section'] == 'World')]"
   ]
  },
  {
   "cell_type": "code",
   "execution_count": 28,
   "metadata": {},
   "outputs": [
    {
     "output_type": "execute_result",
     "data": {
      "text/plain": [
       "                                                  headline        date\n",
       "9130313  Answers to Readers’ Questions About State’s Se...  2010-11-29\n",
       "3545478  Seagate Technology reports earnings for Qtr to...  1988-07-20\n",
       "293687   Efforts by 2 Latin Presidents Appear to Break ...  1988-09-18\n",
       "7372729  Hiram Walker is seeking to create a less 'fudd...  1994-09-08\n",
       "5676355  Flowers and Fubon Said to Eye A.I.G.’s Taiwan ...  2009-06-19"
      ],
      "text/html": "<div>\n<style scoped>\n    .dataframe tbody tr th:only-of-type {\n        vertical-align: middle;\n    }\n\n    .dataframe tbody tr th {\n        vertical-align: top;\n    }\n\n    .dataframe thead th {\n        text-align: right;\n    }\n</style>\n<table border=\"1\" class=\"dataframe\">\n  <thead>\n    <tr style=\"text-align: right;\">\n      <th></th>\n      <th>headline</th>\n      <th>date</th>\n    </tr>\n  </thead>\n  <tbody>\n    <tr>\n      <th>9130313</th>\n      <td>Answers to Readers’ Questions About State’s Se...</td>\n      <td>2010-11-29</td>\n    </tr>\n    <tr>\n      <th>3545478</th>\n      <td>Seagate Technology reports earnings for Qtr to...</td>\n      <td>1988-07-20</td>\n    </tr>\n    <tr>\n      <th>293687</th>\n      <td>Efforts by 2 Latin Presidents Appear to Break ...</td>\n      <td>1988-09-18</td>\n    </tr>\n    <tr>\n      <th>7372729</th>\n      <td>Hiram Walker is seeking to create a less 'fudd...</td>\n      <td>1994-09-08</td>\n    </tr>\n    <tr>\n      <th>5676355</th>\n      <td>Flowers and Fubon Said to Eye A.I.G.’s Taiwan ...</td>\n      <td>2009-06-19</td>\n    </tr>\n  </tbody>\n</table>\n</div>"
     },
     "metadata": {},
     "execution_count": 28
    }
   ],
   "source": [
    "sample = relevant_headlines.sample(3000)\n",
    "sample = sample.iloc[:,1:3]\n",
    "sample.head()"
   ]
  },
  {
   "cell_type": "code",
   "execution_count": 31,
   "metadata": {},
   "outputs": [],
   "source": [
    "sample.to_csv('data/headlines/for_labeling.csv')"
   ]
  },
  {
   "source": [
    "# Some manual labeling happened here..."
   ],
   "cell_type": "markdown",
   "metadata": {}
  },
  {
   "cell_type": "code",
   "execution_count": 113,
   "metadata": {},
   "outputs": [],
   "source": [
    "labeled = pd.read_csv('data/headlines/labeled1.csv')"
   ]
  },
  {
   "cell_type": "code",
   "execution_count": 114,
   "metadata": {},
   "outputs": [
    {
     "output_type": "stream",
     "name": "stderr",
     "text": [
      "<ipython-input-114-4c80adde6d6d>:2: FutureWarning: The default value of regex will change from True to False in a future version.\n  labeled[\"headline\"] = labeled['headline'].str.replace('[^\\w\\s]','')\n"
     ]
    }
   ],
   "source": [
    "labeled['headline'] = labeled['headline'].str.lower()\n",
    "labeled[\"headline\"] = labeled['headline'].str.replace('[^\\w\\s]','')\n",
    "labeled['headline'] = labeled['headline'].str.strip()\n",
    "labeled['headline'] = labeled['headline'].str.split()"
   ]
  },
  {
   "cell_type": "code",
   "execution_count": 115,
   "metadata": {},
   "outputs": [
    {
     "output_type": "stream",
     "name": "stdout",
     "text": [
      "0    70.4\n1    29.6\nName: isgood, dtype: float64\n0    70.4\n1    29.6\nName: isgood, dtype: float64\n0    70.5\n1    29.5\nName: isgood, dtype: float64\n"
     ]
    }
   ],
   "source": [
    "train_data = labeled\n",
    "\n",
    "print(labeled['isgood'].value_counts() / labeled.shape[0] * 100)\n",
    "\n",
    "print(train_data['isgood'].value_counts() / train_data.shape[0] * 100)\n",
    "\n",
    "\n",
    "print(test_data['isgood'].value_counts() / test_data.shape[0] * 100)\n"
   ]
  },
  {
   "cell_type": "code",
   "execution_count": 116,
   "metadata": {},
   "outputs": [],
   "source": [
    "vocabulary = list(set(train_data['headline'].sum()))\n",
    "word_counts_per_sms = pd.DataFrame([\n",
    "    [row[1].count(word) for word in vocabulary]\n",
    "    for _, row in train_data.iterrows()], columns=vocabulary)\n",
    "train_data = pd.concat([train_data.reset_index(), word_counts_per_sms], axis=1).iloc[:,1:]"
   ]
  },
  {
   "cell_type": "code",
   "execution_count": 117,
   "metadata": {},
   "outputs": [],
   "source": [
    "Pspam = train_data['isgood'].value_counts()[1]/train_data.shape[0]"
   ]
  },
  {
   "cell_type": "code",
   "execution_count": 118,
   "metadata": {},
   "outputs": [],
   "source": [
    "Pham = 1-Pspam"
   ]
  },
  {
   "cell_type": "code",
   "execution_count": 119,
   "metadata": {},
   "outputs": [],
   "source": [
    "Nspam = train_data[train_data['isgood'] == 1].apply(len).sum()"
   ]
  },
  {
   "cell_type": "code",
   "execution_count": 120,
   "metadata": {},
   "outputs": [],
   "source": [
    "Nham = train_data[train_data['isgood'] == 0].apply(len).sum()\n"
   ]
  },
  {
   "cell_type": "code",
   "execution_count": 121,
   "metadata": {},
   "outputs": [],
   "source": [
    "Nvoc = len(train_data.columns) - 3\n",
    "alpha = 1"
   ]
  },
  {
   "cell_type": "code",
   "execution_count": 122,
   "metadata": {},
   "outputs": [],
   "source": [
    "def p_w_spam(word):\n",
    "    if word in train_data.columns:\n",
    "        return (train_data.loc[train_data['isgood'] == 1, word].sum() + alpha) / (Nspam + alpha*Nvoc)\n",
    "    else:\n",
    "        return 1\n",
    "      \n",
    "def p_w_ham(word):\n",
    "    if word in train_data.columns:\n",
    "        return (train_data.loc[train_data['isgood'] == 0, word].sum() + alpha) / (Nham + alpha*Nvoc)\n",
    "    else:\n",
    "        return 1"
   ]
  },
  {
   "cell_type": "code",
   "execution_count": 123,
   "metadata": {},
   "outputs": [],
   "source": [
    "def classify(message):\n",
    "    p_spam_given_message = Pspam\n",
    "    p_ham_given_message = Pham\n",
    "    for word in message:\n",
    "        p_spam_given_message *= p_w_spam(word)\n",
    "        p_ham_given_message *= p_w_ham(word)\n",
    "\n",
    "    print('P_spam', p_spam_given_message)\n",
    "    print('P_ham', p_ham_given_message)\n",
    "\n",
    "\n",
    "\n",
    "    if p_ham_given_message > p_spam_given_message:\n",
    "        return 'ham'\n",
    "    elif p_ham_given_message < p_spam_given_message:\n",
    "        return 'spam'\n",
    "    else:\n",
    "        return 'needs human classification'"
   ]
  },
  {
   "cell_type": "code",
   "execution_count": 124,
   "metadata": {},
   "outputs": [],
   "source": [
    "test = test_data.loc[45]['headline']"
   ]
  },
  {
   "cell_type": "code",
   "execution_count": 125,
   "metadata": {},
   "outputs": [
    {
     "output_type": "stream",
     "name": "stdout",
     "text": [
      "P_spam 2.273298375734536e-43\nP_ham 2.5142624313395992e-46\n"
     ]
    },
    {
     "output_type": "execute_result",
     "data": {
      "text/plain": [
       "'spam'"
      ]
     },
     "metadata": {},
     "execution_count": 125
    }
   ],
   "source": [
    "classify(test)"
   ]
  },
  {
   "cell_type": "code",
   "execution_count": 127,
   "metadata": {
    "tags": [
     "outputPrepend"
    ]
   },
   "outputs": [
    {
     "output_type": "stream",
     "name": "stdout",
     "text": [
      "’\n",
      "Spared for Months, Vietnam Faces a Wave of New Infections\n",
      "Without humans around, Sri Lanka’s zoo animals enjoy a pandemic baby boom.\n",
      "Etsy is buying the fashion resale app Depop for $1.6 billion.\n",
      "Archaeologists Uncover Decapitated Bodies From Roman Britain\n",
      "How ViacomCBS Saved Billions in Taxes\n",
      "Russian Cybercriminal Group Was Behind Meat Plant Attack, F.B.I. Says\n",
      "Jobs lost to the pandemic will take years to return, a labor organization says.\n",
      "Surveying Goma’s Volcanoes\n",
      "Anheuser-Busch to give away free beer when the U.S. hits Biden’s July 4 vaccination goal.\n",
      "Would a new government mean a profound shift for Israel?\n",
      "The U.S. imposes — and suspends — tariffs on six countries over digital taxes.\n",
      "A See-Through Pool Opens 10 Stories Above London\n",
      "The Arab party Raam makes history within coalition.\n",
      "‘Complete Insanity’: Virus-Stricken Brazil Agrees to Host Soccer Tournament\n",
      "Hitler’s ‘Mein Kampf’ Gets New French Edition, With Each Lie Annotated\n",
      "After Eruption, Residents in Congo Struggle to Find Food and Shelter\n",
      "Iran’s Largest Navy Ship Catches Fire and Sinks\n",
      "Isaac Herzog will be Israel’s new president.\n",
      "Right-wing lawmakers face intense pressure to reject the opposition coalition.\n",
      "Exxon Board to Get a Third Activist Pushing Cleaner Energy\n",
      "How Naftali Bennett, Head of a Small Right-Wing Party in Israel, Rose to the Top\n",
      "The Fed announces plans to sell off its corporate bond holdings.\n",
      "A Return to Normal? Not for Countries With Covid Surges and Few Vaccines.\n",
      "Netanyahu vows to fight on as difficult details may yet doom the proposed coalition.\n",
      "Canada will soon allow vaccine mixing for second doses.\n",
      "Vaccine efforts for low-income nations get an extra $2.4 billion in promises.\n",
      "Netanyahu Rivals Agree on Israeli Coalition to Oust Him\n",
      "Israeli Opposition Reaches Coalition Agreement\n",
      "The U.S. Economy Is Sending Confusing Signals. What’s Going On?\n",
      "Wage Growth Is Holding Up in Aftermath of the Economic Crash\n",
      "About 10,000 volunteers for the Tokyo Olympics have quit, organizers say.\n",
      "Tasked to Fight Climate Change, a Secretive U.N. Agency Does the Opposite\n",
      "China Suspends Ultramarathons After Deaths of 21 Runners\n",
      "A church is the center of an outbreak in Vietnam’s largest city.\n",
      "United Airlines Wants to Bring Back Supersonic Air Travel\n",
      "India’s top court criticizes Narendra Modi’s government for a sluggish vaccination program.\n",
      "AMC’s shares whipsaw after it tries to capitalize on its stock’s eye-popping rally.\n",
      "The End of Stock Market Fundamentals?\n",
      "Unemployment claims continue to show labor market progress.\n",
      "15 Chinese Elephants Are on a Long March North. Why, No One Knows.\n",
      "For Israel’s Palestinian minority, feelings of relief but no rejoicing.\n",
      "A.I. Drone May Have Acted on Its Own in Attacking Fighters, U.N. Says\n",
      "Migrants Are Forgotten in Italy’s Vaccine Drive, Doctors Say\n",
      "‘Find Him and Kill Him’: An Afghan Pilot’s Desperate Escape\n",
      "This is what happened when a star N.Y.C. surgeon nearly died of Covid.\n",
      "Denmark Would Push Asylum Seekers Outside Europe for Processing\n",
      "G.M. will increase production of cars and trucks as the chip shortage eases.\n",
      "Hong Kong Is Dangling Incentives to Get Vaccinated. That May Not Be Enough.\n",
      "The coronavirus surges across Africa as vaccine programs flounder.\n",
      "Vaccine requirements at U.S. universities present new hurdles for international students.\n",
      "Afghan War Casualty Report: June 2021\n",
      "Travelers returning to the U.K. from Portugal must quarantine starting Tuesday, officials say.\n",
      "For Years, Netanyahu Outlasted His Rivals. What Changed This Week?\n",
      "AMC Cashes In on Meme Stock Mania, Raising $587 Million\n",
      "Biden Narrows Infrastructure Request, but Hurdles Remain for Bipartisan Deal\n",
      "U.N. Suspends Iran’s Voting Rights for Delinquent Dues. Iran is Furious.\n",
      "Bill Ackman’s SPAC is close to a deal valuing Universal Music at $40 billion.\n",
      "Subdued but Not Silenced, Hong Kong Tries to Remember Tiananmen Massacre\n",
      "New Zealand Court Clears Way for Murder Suspect’s Extradition to China\n",
      "The Guardians of Australia’s Memory Try Crowdfunding\n",
      "These are the other indicators economists are watching to understand the labor force.\n",
      "U.S. Added 559,000 Jobs in May, but Road to Recovery Is Bumpy\n",
      "‘Everyone Here Is Alone’\n",
      "A Top Editor Becomes Her ‘True Self’\n",
      "A Historic Moment for Israeli Arabs, but With a Question Mark\n",
      "Can the Pandemic Rescue Britain’s Shopping Areas? This Town Hopes So.\n",
      "India’s ‘Ugliest’ Language? Google Had an Answer (and Drew a Backlash).\n",
      "Facebook Faces Two Antitrust Inquiries in Europe\n",
      "Prominent German Cardinal Offers to Resign Over Church Sexual Abuse\n",
      "On the Scene: Poole's High Street\n",
      "Bill Ackman’s SPAC May Have Found a Dance Partner\n",
      "Eat, Sleep, Play: First Team to Arrive in Japan Finds a Constricted Olympics\n",
      "Putin Seeks Distance From Belarus Turmoil and Says Russia Is ‘Neutral’\n",
      "Our reporters’ analysis and reactions to the jobs report.\n",
      "Inflation Is Real Enough to Take Seriously\n",
      "The Fed wanted a string of strong jobs reports. It’s getting bumpy progress instead.\n",
      "Global Finance Leaders Move Closer to International Tax Agreement\n",
      "‘My Conscience Is Clean. And Yet They Came for Me.’\n",
      "President Biden praises ‘historic progress’ in job gains, crediting his policies.\n",
      "Mysterious Brain Syndrome Stumps Canadian Doctors\n",
      "Sometimes the Grass Really Is Greener at Another Job\n",
      "Black and Hispanic women are still behind as jobs rebound.\n",
      "Iran’s Proxies in Iraq Threaten U.S. With More Sophisticated Weapons\n",
      "Emerging From One Plague, Some Romans Face Another: Attacking Crows\n",
      "It’s Hard Work to Make Ordering Groceries Online So Easy\n",
      "Staples returns to Office Depot with a $1 billion offer for its consumer business.\n",
      "Cardinal Offers Resignation Over Church Sexual Abuse\n",
      "As Dictators Target Citizens Abroad, Few Safe Spaces Remain\n",
      "Two big banks resume political giving, paused after the Capitol riot.\n",
      "After Kamloops Discovery, Indigenous Music Summit Refocuses\n",
      "White House Embraces Job Growth but Distances Itself From Expanded Benefits\n",
      "Florida will no longer publish daily coronavirus reports.\n",
      "Election in East Germany Will Test the Far Right’s Power\n",
      "How the World Learns About Bosses Behaving Badly\n",
      "Federal Unemployment Aid Is Now a Political Lightning Rod\n",
      "As Vaccines Turn Pandemic’s Tide, U.S. and Europe Diverge on Path Forward\n",
      "Are We Waiting for Everyone to Get Hacked?\n",
      "After Lavish Nights of Clubbing in Bangkok, a Covid Outbreak\n",
      "Microsoft’s Bing Briefly Blocked ‘Tank Man’ on Tiananmen Anniversary\n",
      "Olympics Gave Hope to Japan’s L.G.B.T.Q. Activists. But Old Prejudices Die Hard.\n",
      "On Voting Rights, It Can Cost Companies to Take Both Sides\n",
      "Nigeria Bans Twitter After President’s Tweet Is Deleted\n",
      "More Than 100 People Killed in Attack in Burkina Faso\n",
      "Blinded by Brighter Headlights? It’s Not Your Imagination.\n",
      "Hong Kong dangles incentives, like a free apartment, to entice people to get vaccinated.\n",
      "‘Hotel Rwanda’ Dissident Denied Food and Medicine in Prison, Family Says\n",
      "Sinkholes, Collapsing Canal Walls, Rickety Bridges: Amsterdam Is Crumbling\n",
      "Biden Is Embracing Europe, but Then What? NATO and the E.U. Have Concerns.\n",
      "U.S. Aid to Central America Hasn’t Slowed Migration. Can Kamala Harris?\n",
      "The Cost of Being an ‘Interchangeable Asian’\n",
      "‘Fear and Vigilance’: Israel’s Ultra-Orthodox Face a Fall from Power\n",
      "The Week in Business: Jobs Are Up, Beef Is Down\n",
      "Left and Right Clash in Peru Election, With an Economic Model at Stake\n",
      "The rush to vaccinate the world stalls as funds and doses fall short.\n",
      "Wedding Receptions Are Back, and Italy’s Candy Makers Are Delighted\n",
      "Cholera ‘Forever Destroyed’ U.N.’s Image in Haiti, Ban Ki-moon Says\n",
      "Harry and Meghan Announce Birth of Second Baby, Lilibet Diana\n",
      "Graeme Ferguson, Filmmaker Who Helped Create Imax, Dies at 91\n",
      "Mississippi has the country’s lowest vaccination rates. The governor says that’s not a problem.\n",
      "Israel Security Chief Warns Against Incitement of Conflict as Tensions Mount Before Key Vote\n",
      "Nicaragua’s Democracy Hangs by Thread as Crackdown Deepens\n",
      "T.B. Joshua, Nigerian Celebrity Megachurch Pastor, Dies at 57\n",
      "British tourists scramble to return from Portugal to meet a new quarantine deadline.\n",
      "Fisher-Price Recalls Rock ‘n Glide Soothers After 4 Infant Deaths\n",
      "Yellen Won a Global Tax Deal. Now Comes the Hard Part.\n",
      "German Conservatives Win Last State Election Before National Vote\n",
      "Anthony Weiner’s Not Coming Back. But He Has Nowhere to Go.\n",
      "2 Trains Collide in Pakistan, Killing at Least 35\n",
      "Offshore Wind Farms Show What Biden’s Climate Plan Is Up Against\n",
      "Rome Gets Its First Pizza Vending Machine. Will Romans Bite?\n",
      "Why Amazon Is Confronting the Richest Man in India\n",
      "From Doomsday Preppers to Doomsday Plotters\n",
      "For Gyms With Tight Spaces, Expansion of a Different Sort\n",
      "The American South could see a summer Covid surge as vaccinations lag.\n",
      "Jeff Bezos Will Fly Aboard Blue Origin’s First Human Trip to Space\n",
      "A Pact to Tax the World\n",
      "Mexico President’s Grip on Congress Slips, Showing Limits of His Mandate\n",
      "As a Tense Summer Looms, Northern Ireland Braces\n",
      "India’s central government will take over vaccinations amid criticism over its handling of the outbreak.\n",
      "How Thousands of Indigenous Children Vanished in Canada\n",
      "New Dinosaur Species Is Australia’s Largest, Researchers Say\n",
      "Journalists at The Atlantic unionize, the latest in a wave of media organizing.\n",
      "A House Divided: A Palestinian, a Settler and the Struggle for East Jerusalem\n",
      "Boko Haram Leader Really Did Kill Himself, Audio Message Says\n",
      "Truck Attack That Killed a Muslim Family in Canada Was Planned\n",
      "In Guatemala, Harris Tells Undocumented to Stay Away From U.S. Border\n",
      "R.V. Life Means Never Having to Leave Home (or the Office)\n",
      "Alzheimer’s Drug Is Bonanza for Biogen, Most Likely at Taxpayer Expense\n",
      "China Is Trying to Tame Inflation. It Matters to Much of the Globe.\n",
      "China’s Leader Wants a ‘Lovable’ Country. That Doesn’t Mean He’s Making Nice.\n",
      "The Mayor, the Teacher and a Fight Over a ‘Lost Territory’ of France\n",
      "Israel’s Parliament to Vote on New Government on Sunday\n",
      "The Criminals Thought the Devices Were Secure. But the Seller Was the F.B.I.\n",
      "The Debate Over Hacking Ransomware Hackers\n",
      "They wanted to help their college-age children, but wound up buried in debt.\n",
      "A new drug could drive up insurance prices and earn billions from Medicare.\n",
      "Bring the sushi bar home: A Japanese chain rents conveyor belts for takeout.\n",
      "Ratko Mladic Loses Final Appeal in Genocide Conviction\n",
      "What is Fastly, the company behind the worldwide internet outage?\n",
      "Recent Commercial Real Estate Transactions\n",
      "Investors Fret as Biden Takes Aim at a 100-Year-Old Tax Loophole\n",
      "Pilots in India plead for better compensation for colleagues who died of Covid.\n",
      "From Appetizers to Tuition, Incentives to Job Seekers Grow\n",
      "London Police Officer Pleads Guilty to Rape and Kidnap of Sarah Everard\n",
      "U.N. Security Council Recommends António Guterres for a Second Term\n",
      "Job openings hit a record, a Labor Department survey shows.\n",
      "MoviePass Deceived Users So They’d Use It Less, F.T.C. Says\n",
      "Man Slaps Macron During Visit to Southern France\n",
      "Colonial Pipeline chief says an oversight let hackers into its system.\n",
      "Electric truck start-up Lordstown doesn’t have cash to begin production.\n",
      "Kamala Harris, With Blunt Language on Border, Forges Immigration Image\n",
      "For Netanyahu, like Trump, Only ‘Fraud’ Can Explain His Defeat\n",
      "The F.B.I. arrests a Pennsylvania man who impersonated Trump’s relatives.\n",
      "New Yorker Employees Stage Protest Outside Anna Wintour’s Townhouse\n",
      "Attack in Afghanistan Kills 10 From Charity That Clears Land Mines\n",
      "How Long Should It Take to Give Away Millions?\n",
      "On Medicare and Need Dental Work? Beware a Big Bill.\n",
      "Uber and Lyft Ramp Up Legislative Efforts to Shield Business Model\n",
      "More than a year into the pandemic, many Americans are still getting terrible sleep.\n",
      "A slow reopening continues in France, and other news from around the world.\n",
      "Where Did Billionaires’ Billions Go?\n",
      "A new bill would force some philanthropies to spend money faster.\n",
      "Shell says a court ruling on greenhouse gases will speed up its plans to cut emissions.\n",
      "Wuhan animal markets sold dozens of species that can carry pathogens that infect humans, a study found.\n",
      "Germany Makes Rapid Virus Tests a Key to Everyday Freedoms\n",
      "New York Times Names Stella Bugbee as Styles Editor\n",
      "China Returns to Its Strict Covid Limits to Fight a New Outbreak\n",
      "In Germany, the key to everyday freedoms is a rapid virus test.\n",
      "Exxon’s Board Defeat Signals the Rise of Social-Good Activists\n",
      "As a Family Is Mourned, Canada Grapples With Anti-Muslim Bias\n",
      "Chipotle will increase its menu prices as labor costs rise.\n",
      "A former VW chief will pay the automaker $13.7 million over its emissions scandal.\n",
      "A U.S. solar company will build a new factory in Ohio, giving Biden a boost.\n",
      "El Salvador Becomes First Nation to Make Bitcoin Legal Tender\n",
      "Former Students Win Racial Profiling Case Against French State\n",
      "Yes, Your Employer Can Require You to Be Vaccinated\n",
      "Thousands Mourn Muslim Family Killed in Canada Vehicle Attack\n",
      "The head of the Committee to Protect Journalists offers a warning as he prepares to step down.\n",
      "In Nicaragua, Repression Deepens as More Opposition Leaders Are Detained\n",
      "With a Ban on Navalny’s Group, Putin Sends Clear Message to Biden\n",
      "In Britain, Biden called diplomacy and alliances vital to the world’s future.\n",
      "Faltering for Years, Ford Is Showing Signs of a Revival\n",
      "Canada plans a first, and small, step for easing border restrictions.\n",
      "The Keystone XL pipeline project has been terminated.\n",
      "U.S. asks Mexico to review a second complaint about labor violations in its auto industry.\n",
      "Vaccines cannot come too soon for regions like Latin America, the W.H.O. says.\n",
      "Meat processor JBS paid $11 million in ransom to hackers.\n",
      "California’s vaccinated residents can go mostly mask-free as of June 15.\n",
      "A Nevada man is charged in the theft of more than 500 blank vaccine cards in Los Angeles.\n",
      "Dreaming of ‘Global Britain,’ Johnson Is Attacked for Cutting Foreign Aid\n",
      "Exxon’s defeat in a boardroom battle is a turning point for social activism.\n",
      "How Lyft and Uber are working to shape state measures to protect drivers.\n",
      "Prices Jumped 5% in May From Year Earlier, Stoking Debate in Washington\n",
      "Addressing the global vaccine shortage, Biden cites ‘our humanitarian obligation, to save as many lives as we can.’\n",
      "They Love the Car That People Love to Hate\n",
      "Singapore will ease Covid rules and open vaccinations to those 12 and older, and other international news.\n",
      "What the recovery of a Bitcoin ransom shows about cryptocurrencies and privacy.\n",
      "Counting Down to a Big Inflation Number\n",
      "Sexual Harassment and Online Abuse Pervasive in U.K. Schools, Review Finds\n",
      "Goldman Sachs requires its U.S. employees to report their vaccination status.\n",
      "Despite economic recovery, the European Central Bank keeps its policies steady.\n",
      "Initial state jobless claims were below 400,000 last week.\n",
      "Britain Detains ‘Noah’s Ark,’ Doubting It Can Handle the Sea\n",
      "Pope Rejects German Cardinal’s Offer to Resign\n",
      "Starbucks, Flush With Customers, Is Running Low on Ingredients\n",
      "Italy weighs restricting AstraZeneca shots in younger people.\n",
      "Support for a nuclear weapons ban is growing within NATO, an advocacy group says.\n",
      "Ambassador Tai Outlined Biden’s Goal of Worker-Focused Trade Policy\n",
      "Argentine President Offends With Comment: ‘Brazilians Emerged from the Jungle’\n",
      "Netflix: The Store!\n",
      "As U.S. Withdraws, Afghan Interpreters Fear Being Left Behind\n",
      "Elite German Police Unit Disbanded Over Far-Right Group Chat\n",
      "When is a jacket not just a jacket? When a first lady uses it to send a message.\n",
      "Without a big boost, many African nations may not meet a vaccination goal.\n",
      "Afghanistan gets 700,000 doses of a Chinese vaccine amid a Covid surge overwhelming Kabul.\n",
      "A New Israeli Government Could Mean Help for Neglected Bedouin Villages\n",
      "OSHA issues a new Covid safety rule, but only for the health care industry.\n",
      "In the latest sign of N.Y.C.’s reopening, Macy’s July 4 fireworks are returning to large-scale brilliance.\n",
      "Famine Hits 350,000 in Ethiopia, Worst-Hit Country in a Decade\n",
      "In Pictures: President Biden’s Trip to Europe\n",
      "Scholars at Oxford University Refuse to Teach Under Statue of Colonialist\n",
      "Eighty Years Later, Biden and Johnson Revise the Atlantic Charter for a New Era\n",
      "Jeffrey Toobin returns to CNN, eight months after Zoom incident.\n",
      "Peruvian Election, Still Undecided, Pushes a Democracy to Its Brink\n",
      "In Shadow of Navalny Case, What’s Left of the Russian Opposition?\n",
      "What is the G7 summit, and why does it matter?\n",
      "Kim Jong-un Calls K-Pop a ‘Vicious Cancer’ in the New Culture War\n",
      "America May Be ‘Back’ in Europe, but How Much Has Really Changed?\n",
      "China Still Buys American DNA Equipment for Xinjiang Despite Blocks\n",
      "Tackling Vaccine Complacency Close to Home\n",
      "Biden and the E.U. hope to settle a trade dispute and end billions in tariffs.\n",
      "In Australia, a New Look at Immigration: ‘It’s About Our Friends’\n",
      "Meager Rewards for Workers, Exceptionally Rich Pay for C.E.O.s\n",
      "In pictures: Looking back at Trump on the world stage.\n",
      "For Australia’s prime minister, his visit to Cornwall is a homecoming — of sorts.\n",
      "Remember the Trump balloon? Now there’s one for Biden, too.\n",
      "A Path of Forgiveness After Unimaginable Loss in Iraq\n",
      "China’s Censorship Widens to Hong Kong’s Vaunted Film Industry, With Global Implications\n",
      "McDonald’s in Indonesia are forced to close after a ‘BTS Meal’ frenzy that violated Covid measures.\n",
      "Behold the Highest-Paid C.E.O.s\n",
      "Plan to Revive I.R.S. ‘Wealth Squad’ Puts the Richest on Notice\n",
      "China Accuses 32 in Ultramarathon Disaster, but Main Suspect Is Dead\n",
      "British Restaurants Are Battling a Staff Crisis, Worsened by Brexit\n",
      "E.R. visits following suspected suicide attempts rose among U.S. teen girls during the pandemic.\n",
      "Europe’s Summer of Recovery Is More Fragile Than It Looks\n",
      "Gen Z Teens Talk $\n",
      "Queen Elizabeth II, Prince Charles and Prince William joined G7 leaders for dinner.\n",
      "Prepare to Pay More for Uber and Lyft Rides\n",
      "Pulitzer Prizes Focus on Coverage of Pandemic and Law Enforcement\n",
      "‘Freedom Day’ for England Is Looking Like a Mirage\n",
      "The value of Rupert Murdoch’s racy The Sun newspaper is written down to nothing.\n",
      "A Fragile Israeli Coalition, With Some Underlying Glue\n",
      "Pulitzer Prize: 2021 Winners List\n",
      "Italy halts the use of AstraZeneca’s vaccine in those under 60, and other news from around the world.\n",
      "Question Looms Over This Year’s Group of 7: Where Are All the Protesters?\n",
      "Companies Desperate to Reopen Ask: What’s Your Vaccination Status?\n",
      "German Parliament Backs ‘Milestone’ Gender Quota for Company Boards\n",
      "Iran Pays Delinquent U.N. Dues, Getting Its Vote Back\n",
      "‘It’s All Ruined’: Young Woman Caught Up in Belarus Clampdown\n",
      "E-Waste Sculpture Depicts G7 Leaders\n",
      "Cameras Off: G7 Summit Heralds the Return of In-Person Diplomacy\n",
      "Canada’s Muslims Call For Action Against Islamophobia\n",
      "The G7 leaders get down to business, taking on climate change and the pandemic.\n",
      "Private Inequity: How a Powerful Industry Conquered the Tax System\n",
      "In a Crisis, India’s Modi Could Always Change the Narrative. Then Came Covid.\n",
      "Angela Merkel, Anchor of European Stability, Stays Focused at Her Final G7\n",
      "Biden will hold a solo news conference rather than pairing with Putin after their summit.\n",
      "In Defense of SPACs\n",
      "Pandemic Bakers Are Going Pro\n",
      "In China’s latest outbreak, doctors say the infected get sicker, faster.\n",
      "A thrilling tennis match won fans an exception to France’s curfew.\n",
      "Flushing taps, washing hands: Experts have advice for reopening offices safely.\n",
      "Authorities limit the hajj to 60,000 pilgrims in Saudi Arabia, and other news from around the world.\n",
      "Canada rejects 300,000 doses of the J.&J. vaccine made in the U.S. because of contamination issues.\n",
      "French Political Leader Pelted With Flour During Protest\n",
      "Biden Tries to Rally G7 Nations to Counter China’s Influence\n",
      "In Myanmar, Health Care’s Collapse Takes Its Own Toll\n",
      "Russia scrambles to contain a new surge, as most of its people appear to be avoiding the Sputnik vaccine.\n",
      "President Biden and Jill Biden will meet with the queen at Windsor Castle.\n",
      "Yair Lapid Won’t Be Israel’s Next Leader. But He’s the Power Behind the Throne.\n",
      "Climate Protesters Rally on the Streets and at Sea Amid G7 Summit\n",
      "Macron Says U.S. Is ‘Definitely’ Back, as Biden Repairs Ties With Europe\n"
     ]
    }
   ],
   "source": [
    "for i in relevant_headlines['headline']:\n",
    "    print(i)"
   ]
  },
  {
   "cell_type": "code",
   "execution_count": null,
   "metadata": {},
   "outputs": [],
   "source": []
  }
 ],
 "metadata": {
  "kernelspec": {
   "name": "python3",
   "display_name": "Python 3.8.5 64-bit"
  },
  "language_info": {
   "codemirror_mode": {
    "name": "ipython",
    "version": 3
   },
   "file_extension": ".py",
   "mimetype": "text/x-python",
   "name": "python",
   "nbconvert_exporter": "python",
   "pygments_lexer": "ipython3",
   "version": "3.8.5"
  },
  "interpreter": {
   "hash": "916dbcbb3f70747c44a77c7bcd40155683ae19c65e1c03b4aa3499c5328201f1"
  }
 },
 "nbformat": 4,
 "nbformat_minor": 5
}