{
 "metadata": {
  "language_info": {
   "codemirror_mode": {
    "name": "ipython",
    "version": 3
   },
   "file_extension": ".py",
   "mimetype": "text/x-python",
   "name": "python",
   "nbconvert_exporter": "python",
   "pygments_lexer": "ipython3",
   "version": "3.8.5"
  },
  "orig_nbformat": 2,
  "kernelspec": {
   "name": "python3",
   "display_name": "Python 3.8.5 64-bit"
  },
  "metadata": {
   "interpreter": {
    "hash": "916dbcbb3f70747c44a77c7bcd40155683ae19c65e1c03b4aa3499c5328201f1"
   }
  },
  "interpreter": {
   "hash": "916dbcbb3f70747c44a77c7bcd40155683ae19c65e1c03b4aa3499c5328201f1"
  }
 },
 "nbformat": 4,
 "nbformat_minor": 2,
 "cells": [
  {
   "cell_type": "code",
   "execution_count": 1,
   "metadata": {},
   "outputs": [],
   "source": [
    "import numpy as np \n",
    "import pandas as pd \n",
    "import seaborn as sns\n",
    "import matplotlib.pyplot as plt\n",
    "from sklearn.neighbors import NearestNeighbors\n",
    "from joblib import dump, load"
   ]
  },
  {
   "cell_type": "code",
   "execution_count": 2,
   "metadata": {},
   "outputs": [],
   "source": [
    "X = pd.read_csv(\"/home/bartek/Desktop/MSSMW/data/complete_dataset.csv\").iloc[:,2:]"
   ]
  },
  {
   "cell_type": "code",
   "execution_count": 3,
   "metadata": {},
   "outputs": [
    {
     "output_type": "execute_result",
     "data": {
      "text/plain": [
       "NearestNeighbors(n_neighbors=1)"
      ]
     },
     "metadata": {},
     "execution_count": 3
    }
   ],
   "source": [
    "NN = NearestNeighbors(n_neighbors = 1)\n",
    "NN.fit(X)"
   ]
  },
  {
   "cell_type": "code",
   "execution_count": 4,
   "metadata": {},
   "outputs": [
    {
     "output_type": "execute_result",
     "data": {
      "text/plain": [
       "['NN.joblib']"
      ]
     },
     "metadata": {},
     "execution_count": 4
    }
   ],
   "source": [
    "dump(NN, \"NN.joblib\")"
   ]
  },
  {
   "cell_type": "code",
   "execution_count": 5,
   "metadata": {},
   "outputs": [
    {
     "output_type": "execute_result",
     "data": {
      "text/plain": [
       "array([[-0.35168567, -0.35303557, -0.13182178,  0.59466922,  6.81348933,\n",
       "        -8.600377  ,  0.96612499,  0.63118481,  0.42182969,  1.09376659,\n",
       "         4.40467997,  0.4005655 ,  0.92570135,  0.62583578,  0.50092275,\n",
       "         1.3911012 ,  4.7487956 ,  0.18850141,  1.13590428,  0.97887136,\n",
       "         0.58001582,  1.28491027,  2.20233999,  0.4005655 ,  0.17382165,\n",
       "         0.12302755,  0.        ,  1.3911012 ,  2.40880936, -2.19132893]])"
      ]
     },
     "metadata": {},
     "execution_count": 5
    }
   ],
   "source": [
    "x_test = np.array([X.loc[32]])\n",
    "x_test"
   ]
  },
  {
   "cell_type": "code",
   "execution_count": 6,
   "metadata": {},
   "outputs": [],
   "source": [
    "dist, indices = NN.kneighbors(x_test)"
   ]
  },
  {
   "cell_type": "code",
   "execution_count": 7,
   "metadata": {},
   "outputs": [
    {
     "output_type": "stream",
     "name": "stdout",
     "text": [
      "[[0.]]\n"
     ]
    }
   ],
   "source": [
    "print(dist)"
   ]
  },
  {
   "cell_type": "code",
   "execution_count": 8,
   "metadata": {},
   "outputs": [
    {
     "output_type": "stream",
     "name": "stdout",
     "text": [
      "[[32]]\n"
     ]
    }
   ],
   "source": [
    "print(indices)"
   ]
  },
  {
   "cell_type": "code",
   "execution_count": 9,
   "metadata": {},
   "outputs": [
    {
     "output_type": "execute_result",
     "data": {
      "text/plain": [
       "Monday_SP500      -0.351686\n",
       "Monday_DJIA       -0.353036\n",
       "Monday_NASDAQ     -0.131822\n",
       "Monday_EURUSD      0.594669\n",
       "Monday_OIL         6.813489\n",
       "Monday_GOLD       -8.600377\n",
       "Tuesday_SP500      0.966125\n",
       "Tuesday_DJIA       0.631185\n",
       "Tuesday_NASDAQ     0.421830\n",
       "Tuesday_EURUSD     1.093767\n",
       "Tuesday_OIL        4.404680\n",
       "Tuesday_GOLD       0.400566\n",
       "Wednesay_SP500     0.925701\n",
       "Wednesay_DJIA      0.625836\n",
       "Wednesay_NASDAQ    0.500923\n",
       "Wednesay_EURUSD    1.391101\n",
       "Wednesay_OIL       4.748796\n",
       "Wednesay_GOLD      0.188501\n",
       "Thursday_SP500     1.135904\n",
       "Thursday_DJIA      0.978871\n",
       "Thursday_NASDAQ    0.580016\n",
       "Thursday_EURUSD    1.284910\n",
       "Thursday_OIL       2.202340\n",
       "Thursday_GOLD      0.400566\n",
       "Friday_SP500       0.173822\n",
       "Friday_DJIA        0.123028\n",
       "Friday_NASDAQ      0.000000\n",
       "Friday_EURUSD      1.391101\n",
       "Friday_OIL         2.408809\n",
       "Friday_GOLD       -2.191329\n",
       "Name: 32, dtype: float64"
      ]
     },
     "metadata": {},
     "execution_count": 9
    }
   ],
   "source": [
    "X.loc[32]"
   ]
  },
  {
   "cell_type": "code",
   "execution_count": null,
   "metadata": {},
   "outputs": [],
   "source": []
  }
 ]
}