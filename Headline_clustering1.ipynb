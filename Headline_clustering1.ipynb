{
 "metadata": {
  "language_info": {
   "codemirror_mode": {
    "name": "ipython",
    "version": 3
   },
   "file_extension": ".py",
   "mimetype": "text/x-python",
   "name": "python",
   "nbconvert_exporter": "python",
   "pygments_lexer": "ipython3",
   "version": "3.8.5"
  },
  "orig_nbformat": 4,
  "kernelspec": {
   "name": "python3",
   "display_name": "Python 3.8.5 64-bit"
  },
  "interpreter": {
   "hash": "916dbcbb3f70747c44a77c7bcd40155683ae19c65e1c03b4aa3499c5328201f1"
  }
 },
 "nbformat": 4,
 "nbformat_minor": 2,
 "cells": [
  {
   "cell_type": "code",
   "execution_count": 1,
   "metadata": {},
   "outputs": [],
   "source": [
    "import pandas as pd\n",
    "import numpy as np \n",
    "from tqdm.notebook import tqdm_notebook"
   ]
  },
  {
   "cell_type": "code",
   "execution_count": 2,
   "metadata": {},
   "outputs": [],
   "source": [
    "data = pd.read_csv('data/headlines/CLUSTERED_PART_1.csv')"
   ]
  },
  {
   "cell_type": "code",
   "execution_count": 3,
   "metadata": {},
   "outputs": [
    {
     "output_type": "execute_result",
     "data": {
      "text/plain": [
       "(692347, 7)"
      ]
     },
     "metadata": {},
     "execution_count": 3
    }
   ],
   "source": [
    "data.shape"
   ]
  },
  {
   "cell_type": "code",
   "execution_count": 4,
   "metadata": {},
   "outputs": [],
   "source": [
    "#Lets check how picky can we be (how many headlines for  each week we have so far..."
   ]
  },
  {
   "cell_type": "code",
   "execution_count": 5,
   "metadata": {},
   "outputs": [],
   "source": [
    "data['date'] = pd.to_datetime(data['date'])"
   ]
  },
  {
   "cell_type": "code",
   "execution_count": 6,
   "metadata": {},
   "outputs": [
    {
     "output_type": "display_data",
     "data": {
      "text/plain": "  0%|          | 0/1848 [00:00<?, ?it/s]",
      "application/vnd.jupyter.widget-view+json": {
       "version_major": 2,
       "version_minor": 0,
       "model_id": "b7f60616131d431e8c73a1718fcc26a5"
      }
     },
     "metadata": {}
    }
   ],
   "source": [
    "start_week  = pd.to_datetime('1986-01-06')\n",
    "week_starts = [start_week]\n",
    "for i in tqdm_notebook(range(0,1848)):\n",
    "    start_week += pd.Timedelta(days = 7)\n",
    "    week_starts.append(start_week)"
   ]
  },
  {
   "cell_type": "code",
   "execution_count": 7,
   "metadata": {},
   "outputs": [
    {
     "output_type": "display_data",
     "data": {
      "text/plain": "  0%|          | 0/1849 [00:00<?, ?it/s]",
      "application/vnd.jupyter.widget-view+json": {
       "version_major": 2,
       "version_minor": 0,
       "model_id": "0eb7bedf3dd241deb31c664ec3eab47d"
      }
     },
     "metadata": {}
    }
   ],
   "source": [
    "counts = []\n",
    "for i in tqdm_notebook(week_starts):\n",
    "    start = i\n",
    "    end = i + pd.Timedelta(days = 7)\n",
    "    counts.append(data[(data['date'] > start) & (data['date'] < end)].shape[0])\n"
   ]
  },
  {
   "cell_type": "code",
   "execution_count": 8,
   "metadata": {},
   "outputs": [],
   "source": [
    "data['words_in_headline'] = data['headline'].str.split().apply(len)"
   ]
  },
  {
   "cell_type": "code",
   "execution_count": 9,
   "metadata": {},
   "outputs": [],
   "source": [
    "data = data.drop(data[data['words_in_headline'] < 3].index).reset_index(drop = True)"
   ]
  },
  {
   "cell_type": "code",
   "execution_count": 10,
   "metadata": {},
   "outputs": [
    {
     "output_type": "execute_result",
     "data": {
      "text/plain": [
       "        Unnamed: 0                                           headline  \\\n",
       "0                0                     INVESTORS OPEN '86 CONFIDENTLY   \n",
       "1                1              ACQUISITIONS HELPED SOME AMEX LEADERS   \n",
       "2                2  TRANSCRIPT OF REAGAN'S MESSAGE TO THE SOVIET P...   \n",
       "3                3                        A NEW ELEMENT OF VOLATILITY   \n",
       "4                4  2 Arabs in Belgium Accused Of Planning an Airp...   \n",
       "...            ...                                                ...   \n",
       "676686      692342  Russia scrambles to contain a new surge, as mo...   \n",
       "676687      692343  President Biden and Jill Biden will meet with ...   \n",
       "676688      692344  Yair Lapid Won’t Be Israel’s Next Leader. But ...   \n",
       "676689      692345  Climate Protesters Rally on the Streets and at...   \n",
       "676690      692346  Macron Says U.S. Is ‘Definitely’ Back, as Bide...   \n",
       "\n",
       "             date    doc_type material_type       section  \\\n",
       "0      1986-01-02     article          News  Business Day   \n",
       "1      1986-01-02     article          News  Business Day   \n",
       "2      1986-01-02     article          Text         World   \n",
       "3      1986-01-02     article          News  Business Day   \n",
       "4      1986-01-02     article          News         World   \n",
       "...           ...         ...           ...           ...   \n",
       "676686 2021-06-12     article          News         World   \n",
       "676687 2021-06-12     article          News         World   \n",
       "676688 2021-06-12     article          News         World   \n",
       "676689 2021-06-12  multimedia         Video         World   \n",
       "676690 2021-06-12  multimedia         Video         World   \n",
       "\n",
       "                                                 keywords  words_in_headline  \n",
       "0       ['NINETEEN HUNDRED EIGHTY-FIVE', 'Stocks and B...                  4  \n",
       "1       ['NINETEEN HUNDRED EIGHTY-FIVE', 'Stocks and B...                  5  \n",
       "2       ['Speeches and Statements', 'United States Int...                 12  \n",
       "3       ['NINETEEN HUNDRED EIGHTY-FIVE', 'FUTURES TRAD...                  5  \n",
       "4       ['Palestinians', 'AIRPORTS', 'Arabs', 'Terrori...                 10  \n",
       "...                                                   ...                ...  \n",
       "676686  ['internal-essential', 'Coronavirus (2019-nCoV...                 19  \n",
       "676687  ['Royal Families', 'United States Internationa...                 13  \n",
       "676688  ['Politics and Government', 'Legislatures and ...                 14  \n",
       "676689  ['Demonstrations, Protests and Riots', 'Global...                 12  \n",
       "676690                        ['Politics and Government']                 12  \n",
       "\n",
       "[676691 rows x 8 columns]"
      ],
      "text/html": "<div>\n<style scoped>\n    .dataframe tbody tr th:only-of-type {\n        vertical-align: middle;\n    }\n\n    .dataframe tbody tr th {\n        vertical-align: top;\n    }\n\n    .dataframe thead th {\n        text-align: right;\n    }\n</style>\n<table border=\"1\" class=\"dataframe\">\n  <thead>\n    <tr style=\"text-align: right;\">\n      <th></th>\n      <th>Unnamed: 0</th>\n      <th>headline</th>\n      <th>date</th>\n      <th>doc_type</th>\n      <th>material_type</th>\n      <th>section</th>\n      <th>keywords</th>\n      <th>words_in_headline</th>\n    </tr>\n  </thead>\n  <tbody>\n    <tr>\n      <th>0</th>\n      <td>0</td>\n      <td>INVESTORS OPEN '86 CONFIDENTLY</td>\n      <td>1986-01-02</td>\n      <td>article</td>\n      <td>News</td>\n      <td>Business Day</td>\n      <td>['NINETEEN HUNDRED EIGHTY-FIVE', 'Stocks and B...</td>\n      <td>4</td>\n    </tr>\n    <tr>\n      <th>1</th>\n      <td>1</td>\n      <td>ACQUISITIONS HELPED SOME AMEX LEADERS</td>\n      <td>1986-01-02</td>\n      <td>article</td>\n      <td>News</td>\n      <td>Business Day</td>\n      <td>['NINETEEN HUNDRED EIGHTY-FIVE', 'Stocks and B...</td>\n      <td>5</td>\n    </tr>\n    <tr>\n      <th>2</th>\n      <td>2</td>\n      <td>TRANSCRIPT OF REAGAN'S MESSAGE TO THE SOVIET P...</td>\n      <td>1986-01-02</td>\n      <td>article</td>\n      <td>Text</td>\n      <td>World</td>\n      <td>['Speeches and Statements', 'United States Int...</td>\n      <td>12</td>\n    </tr>\n    <tr>\n      <th>3</th>\n      <td>3</td>\n      <td>A NEW ELEMENT OF VOLATILITY</td>\n      <td>1986-01-02</td>\n      <td>article</td>\n      <td>News</td>\n      <td>Business Day</td>\n      <td>['NINETEEN HUNDRED EIGHTY-FIVE', 'FUTURES TRAD...</td>\n      <td>5</td>\n    </tr>\n    <tr>\n      <th>4</th>\n      <td>4</td>\n      <td>2 Arabs in Belgium Accused Of Planning an Airp...</td>\n      <td>1986-01-02</td>\n      <td>article</td>\n      <td>News</td>\n      <td>World</td>\n      <td>['Palestinians', 'AIRPORTS', 'Arabs', 'Terrori...</td>\n      <td>10</td>\n    </tr>\n    <tr>\n      <th>...</th>\n      <td>...</td>\n      <td>...</td>\n      <td>...</td>\n      <td>...</td>\n      <td>...</td>\n      <td>...</td>\n      <td>...</td>\n      <td>...</td>\n    </tr>\n    <tr>\n      <th>676686</th>\n      <td>692342</td>\n      <td>Russia scrambles to contain a new surge, as mo...</td>\n      <td>2021-06-12</td>\n      <td>article</td>\n      <td>News</td>\n      <td>World</td>\n      <td>['internal-essential', 'Coronavirus (2019-nCoV...</td>\n      <td>19</td>\n    </tr>\n    <tr>\n      <th>676687</th>\n      <td>692343</td>\n      <td>President Biden and Jill Biden will meet with ...</td>\n      <td>2021-06-12</td>\n      <td>article</td>\n      <td>News</td>\n      <td>World</td>\n      <td>['Royal Families', 'United States Internationa...</td>\n      <td>13</td>\n    </tr>\n    <tr>\n      <th>676688</th>\n      <td>692344</td>\n      <td>Yair Lapid Won’t Be Israel’s Next Leader. But ...</td>\n      <td>2021-06-12</td>\n      <td>article</td>\n      <td>News</td>\n      <td>World</td>\n      <td>['Politics and Government', 'Legislatures and ...</td>\n      <td>14</td>\n    </tr>\n    <tr>\n      <th>676689</th>\n      <td>692345</td>\n      <td>Climate Protesters Rally on the Streets and at...</td>\n      <td>2021-06-12</td>\n      <td>multimedia</td>\n      <td>Video</td>\n      <td>World</td>\n      <td>['Demonstrations, Protests and Riots', 'Global...</td>\n      <td>12</td>\n    </tr>\n    <tr>\n      <th>676690</th>\n      <td>692346</td>\n      <td>Macron Says U.S. Is ‘Definitely’ Back, as Bide...</td>\n      <td>2021-06-12</td>\n      <td>multimedia</td>\n      <td>Video</td>\n      <td>World</td>\n      <td>['Politics and Government']</td>\n      <td>12</td>\n    </tr>\n  </tbody>\n</table>\n<p>676691 rows × 8 columns</p>\n</div>"
     },
     "metadata": {},
     "execution_count": 10
    }
   ],
   "source": [
    "data"
   ]
  },
  {
   "cell_type": "code",
   "execution_count": 11,
   "metadata": {},
   "outputs": [],
   "source": [
    "from nltk.corpus import wordnet as wn"
   ]
  },
  {
   "cell_type": "code",
   "execution_count": 12,
   "metadata": {},
   "outputs": [],
   "source": [
    "def possible_verb(word_str):\n",
    "    word = wn.synsets(word_str)\n",
    "    for i in word:\n",
    "        if i.pos() == 'v':\n",
    "            return True\n",
    "    else:\n",
    "        return False"
   ]
  },
  {
   "cell_type": "code",
   "execution_count": 13,
   "metadata": {},
   "outputs": [
    {
     "output_type": "execute_result",
     "data": {
      "text/plain": [
       "False"
      ]
     },
     "metadata": {},
     "execution_count": 13
    }
   ],
   "source": [
    "possible_verb('volatility')"
   ]
  },
  {
   "cell_type": "code",
   "execution_count": 14,
   "metadata": {},
   "outputs": [
    {
     "output_type": "execute_result",
     "data": {
      "text/plain": [
       "True"
      ]
     },
     "metadata": {},
     "execution_count": 14
    }
   ],
   "source": [
    "possible_verb('codes')"
   ]
  },
  {
   "cell_type": "code",
   "execution_count": 15,
   "metadata": {},
   "outputs": [
    {
     "output_type": "display_data",
     "data": {
      "text/plain": "  0%|          | 0/676691 [00:00<?, ?it/s]",
      "application/vnd.jupyter.widget-view+json": {
       "version_major": 2,
       "version_minor": 0,
       "model_id": "881154c708344b1dbd5d0dc149cbaffb"
      }
     },
     "metadata": {}
    }
   ],
   "source": [
    "possible_verb_counts = []\n",
    "for headline in tqdm_notebook(data['headline']):\n",
    "    possible_verbs = 0\n",
    "    for word in headline.split():\n",
    "        if possible_verb(word):\n",
    "            possible_verbs += 1\n",
    "    possible_verb_counts.append(possible_verbs)"
   ]
  },
  {
   "cell_type": "code",
   "execution_count": 16,
   "metadata": {},
   "outputs": [],
   "source": [
    "data['possible_verbs'] = pd.Series(possible_verb_counts)"
   ]
  },
  {
   "cell_type": "code",
   "execution_count": 17,
   "metadata": {},
   "outputs": [],
   "source": [
    "data = data.drop(data[data['possible_verbs'] == 0].index).reset_index(drop = True)"
   ]
  },
  {
   "cell_type": "code",
   "execution_count": 18,
   "metadata": {},
   "outputs": [],
   "source": [
    "#Unify headline format"
   ]
  },
  {
   "cell_type": "code",
   "execution_count": 19,
   "metadata": {},
   "outputs": [],
   "source": [
    "data['headline'] = data['headline'].str.lower()\n",
    "data['headline'] = data['headline'].str.title()"
   ]
  },
  {
   "cell_type": "code",
   "execution_count": 20,
   "metadata": {},
   "outputs": [
    {
     "output_type": "execute_result",
     "data": {
      "text/plain": [
       "336194          New York Gains Ground In Bid For 2012 Games\n",
       "58181                            European Coin Seen Gaining\n",
       "512063    Russian Court Upholds Convictions Of Imprisone...\n",
       "391911    Khmer RougeS Last Bastion Calls On Spirits Fo...\n",
       "160554    Kellogg May Repurchase $300 Million More Of It...\n",
       "276412          Treaty'S End Would Ruffle Russia'S Politics\n",
       "278254    Technology Briefing | Telecommunications: Grou...\n",
       "162057        Mannesmann Acquires Imo Unit For $124 Million\n",
       "158337    Katzenberg To Form Studio With Geffen And Spie...\n",
       "250190          Home-Grown Drug Business Booms In Vancouver\n",
       "524258    I.M.F. Trims Estimates For Global Growth On ‘S...\n",
       "380218     Are Hedge Funds On Deck As Baseball Team Owners?\n",
       "27640     Contra Chief Says He Gave $50,000 In Effort To...\n",
       "259438                What Brings A Bear Back To The Market\n",
       "230645    America Online Buys Stake In Asian Web Site Op...\n",
       "506641                                  Cutting Pell Grants\n",
       "228915    Blair Rallies Public Support After China Embas...\n",
       "463366    Eden Ross Lipson, Books Editor At The Times, D...\n",
       "119266    Technology; Adobe Tackles The Paper Glut With ...\n",
       "343832    Sirius Enlists Record Executive For Its Satell...\n",
       "Name: headline, dtype: object"
      ]
     },
     "metadata": {},
     "execution_count": 20
    }
   ],
   "source": [
    "data.sample(20)['headline']"
   ]
  },
  {
   "cell_type": "code",
   "execution_count": 21,
   "metadata": {},
   "outputs": [],
   "source": [
    "data = data.drop(['Unnamed: 0'], axis = 1)"
   ]
  },
  {
   "cell_type": "code",
   "execution_count": 22,
   "metadata": {},
   "outputs": [],
   "source": [
    "data.to_csv('data/headlines/FINAL_0_1.csv')"
   ]
  }
 ]
}